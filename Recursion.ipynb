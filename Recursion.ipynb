{
 "cells": [
  {
   "cell_type": "markdown",
   "metadata": {},
   "source": [
    "# Recursion Exercises"
   ]
  },
  {
   "cell_type": "code",
   "execution_count": 2,
   "metadata": {},
   "outputs": [],
   "source": [
    "from instrument import instrument #utility to help visualize recursive calls \n",
    "instrument.SHOW_CALL = True\n",
    "instrument.SHOW_RET = True"
   ]
  },
  {
   "cell_type": "code",
   "execution_count": 3,
   "metadata": {},
   "outputs": [
    {
     "name": "stdout",
     "output_type": "stream",
     "text": [
      "total = 15\n"
     ]
    },
    {
     "name": "stderr",
     "output_type": "stream",
     "text": [
      "call to walk: [1, [2, 3, [4, 5]]]\n",
      "   call to walk: [[2, 3, [4, 5]]]\n",
      "      call to walk: [2, 3, [4, 5]]\n",
      "         call to walk: [3, [4, 5]]\n",
      "            call to walk: [[4, 5]]\n",
      "               call to walk: [4, 5]\n",
      "                  call to walk: [5]\n",
      "                     call to walk: []\n",
      "                     walk returns: 15\n",
      "                  walk returns: 15\n",
      "               walk returns: 15\n",
      "               call to walk: []\n",
      "               walk returns: 15\n",
      "            walk returns: 15\n",
      "         walk returns: 15\n",
      "      walk returns: 15\n",
      "      call to walk: []\n",
      "      walk returns: 15\n",
      "   walk returns: 15\n",
      "walk returns: 15\n"
     ]
    }
   ],
   "source": [
    "L = [1,[2,3,[4,5]]]\n",
    "@instrument\n",
    "def walk(L):\n",
    "    global total\n",
    "    if len(L) == 0:\n",
    "        return total\n",
    "    if type(L[0]) == list:\n",
    "        walk(L[0])\n",
    "    else:\n",
    "        total += L[0]\n",
    "    return walk(L[1:])\n",
    "total = 0 \n",
    "total = walk(L)\n",
    "print('total = {}'.format(total))"
   ]
  },
  {
   "cell_type": "code",
   "execution_count": 4,
   "metadata": {},
   "outputs": [],
   "source": [
    "tree1 = [13,\n",
    "         [7],\n",
    "         [8, \n",
    "          [99],\n",
    "          [16, \n",
    "           [77]],\n",
    "          [42]]]"
   ]
  },
  {
   "cell_type": "code",
   "execution_count": null,
   "metadata": {},
   "outputs": [],
   "source": [
    "maxval = 0\n",
    "@instrument\n",
    "def walk_tree(L):\n",
    "    global maxval\n",
    "    if len(L) == 0:\n",
    "        return maxval\n",
    "    if type(L[0]) == list:\n",
    "        walk_tree(L[0])\n",
    "    else:\n",
    "        maxval = max(maxval,L[0])\n",
    "    return walk_tree(L[1:])\n",
    "\n",
    "maxval = walk_tree(tree1)\n",
    "print('max = {}'.format(maxval))"
   ]
  },
  {
   "cell_type": "markdown",
   "metadata": {},
   "source": [
    "## mixing recursion with for loop"
   ]
  },
  {
   "cell_type": "code",
   "execution_count": 13,
   "metadata": {},
   "outputs": [
    {
     "name": "stdout",
     "output_type": "stream",
     "text": [
      "children [[7], [8, [99], [16, [77]], [42]]]\n",
      "maxval set to 7\n",
      "children [[99], [16, [77]], [42]]\n",
      "maxval set to 99\n",
      "children [[77]]\n",
      "maxval set to 99\n",
      "maxval set to 99\n",
      "max = 99\n"
     ]
    },
    {
     "name": "stderr",
     "output_type": "stream",
     "text": [
      "call to walk_tree: [13, [7], [8, [99], [16, [77]], [42]]]\n",
      "   call to walk_tree: [7]\n",
      "   walk_tree returns: 7\n",
      "   call to walk_tree: [8, [99], [16, [77]], [42]]\n",
      "      call to walk_tree: [99]\n",
      "      walk_tree returns: 99\n",
      "      call to walk_tree: [16, [77]]\n",
      "         call to walk_tree: [77]\n",
      "         walk_tree returns: 99\n",
      "      walk_tree returns: 99\n",
      "      call to walk_tree: [42]\n",
      "      walk_tree returns: 99\n",
      "   walk_tree returns: 99\n",
      "walk_tree returns: 99\n"
     ]
    }
   ],
   "source": [
    "# assume this is a tree with a single root. We could use our previous recrusion but not as efficient\n",
    "tree1 = [13,[7],[8, [99],[16, [77]],[42]]]\n",
    "maxval = 0\n",
    "@instrument\n",
    "def walk_tree(L):\n",
    "    global maxval\n",
    "    if len(L) == 0:\n",
    "        return maxval\n",
    "    children = L[1:]\n",
    "    if not children:\n",
    "        print('maxval set to {}'.format(max(maxval,L[0])))\n",
    "        maxval = max(maxval,L[0])\n",
    "        return maxval\n",
    "    else:\n",
    "        print('children {}'.format(children))\n",
    "        return max(walk_tree(child) for child in children)  # this does most of the work\n",
    "\n",
    "maxval = walk_tree(tree1)\n",
    "print('max = {}'.format(maxval))"
   ]
  },
  {
   "cell_type": "code",
   "execution_count": null,
   "metadata": {},
   "outputs": [],
   "source": []
  }
 ],
 "metadata": {
  "kernelspec": {
   "display_name": "Python 3",
   "language": "python",
   "name": "python3"
  },
  "language_info": {
   "codemirror_mode": {
    "name": "ipython",
    "version": 3
   },
   "file_extension": ".py",
   "mimetype": "text/x-python",
   "name": "python",
   "nbconvert_exporter": "python",
   "pygments_lexer": "ipython3",
   "version": "3.7.3"
  }
 },
 "nbformat": 4,
 "nbformat_minor": 2
}
